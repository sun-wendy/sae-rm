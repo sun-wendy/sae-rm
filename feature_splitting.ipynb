{
 "cells": [
  {
   "cell_type": "code",
   "execution_count": 1,
   "metadata": {},
   "outputs": [
    {
     "name": "stderr",
     "output_type": "stream",
     "text": [
      "/home/ubuntu/.local/lib/python3.10/site-packages/pandas/core/computation/expressions.py:21: UserWarning: Pandas requires version '2.8.4' or newer of 'numexpr' (version '2.8.1' currently installed).\n",
      "  from pandas.core.computation.check import NUMEXPR_INSTALLED\n",
      "/home/ubuntu/.local/lib/python3.10/site-packages/pandas/core/arrays/masked.py:60: UserWarning: Pandas requires version '1.3.6' or newer of 'bottleneck' (version '1.3.2' currently installed).\n",
      "  from pandas.core import (\n"
     ]
    },
    {
     "name": "stdout",
     "output_type": "stream",
     "text": [
      "cuda\n"
     ]
    },
    {
     "name": "stderr",
     "output_type": "stream",
     "text": [
      "/home/ubuntu/.local/lib/python3.10/site-packages/transformers/tokenization_utils_base.py:1601: FutureWarning: `clean_up_tokenization_spaces` was not set. It will be set to `True` by default. This behavior will be depracted in transformers v4.45, and will be then set to `False` by default. For more details check this issue: https://github.com/huggingface/transformers/issues/31884\n",
      "  warnings.warn(\n"
     ]
    },
    {
     "name": "stdout",
     "output_type": "stream",
     "text": [
      "Loaded pretrained model gpt2 into HookedTransformer\n"
     ]
    }
   ],
   "source": [
    "from transformer_lens import HookedTransformer\n",
    "import torch\n",
    "\n",
    "device = torch.device(\"cuda\" if torch.cuda.is_available() else \"cpu\")\n",
    "print(device)\n",
    "model_name = \"gpt2\"\n",
    "model = HookedTransformer.from_pretrained(model_name, device = device)"
   ]
  },
  {
   "cell_type": "code",
   "execution_count": 2,
   "metadata": {},
   "outputs": [],
   "source": [
    "from sparsifiers import SAE\n",
    "from huggingface_hub import hf_hub_download\n",
    "\n",
    "layer = 6\n",
    "# e2e_name = \"https://huggingface.co/apollo-research/e2e-saes-gpt2/blob/main/downstream_similar_ce_layer_6.pt\"\n",
    "downstream_name = f\"downstream_similar_ce_layer_{layer}.pt\"\n",
    "# downstream_name = f\"downstream_similar_l0_layer_{layer}.pt\"\n",
    "local_name = f\"local_similar_ce_layer_{layer}.pt\"\n",
    "# local_name = f\"local_similar_l0_layer_{layer}.pt\"\n",
    "\n",
    "activation_name = f\"transformer.h.{layer}\"\n",
    "model_id = \"apollo-research/e2e-saes-gpt2\""
   ]
  },
  {
   "cell_type": "code",
   "execution_count": 3,
   "metadata": {},
   "outputs": [],
   "source": [
    "def load_sae(model_id, hh_file_location):\n",
    "    ae_download_location = hf_hub_download(repo_id=model_id, filename=hh_file_location)\n",
    "\n",
    "    sae_list = torch.load(ae_download_location)\n",
    "\n",
    "    # Rename the keys in the state dictionary\n",
    "    def rename_keys(state_dict):\n",
    "        renamed_state_dict = {}\n",
    "        for key, value in state_dict.items():\n",
    "            if key == 'encoder.weight':\n",
    "                renamed_state_dict['encoder.0.weight'] = value\n",
    "            elif key == 'encoder.bias':\n",
    "                renamed_state_dict['encoder.0.bias'] = value\n",
    "            else:\n",
    "                renamed_state_dict[key] = value\n",
    "        return renamed_state_dict\n",
    "\n",
    "    # Create an instance of the SAE model with the extracted parameters\n",
    "    n_dict_components, input_size = sae_list['encoder.weight'].shape\n",
    "    sae = SAE(input_size=input_size, n_dict_components=n_dict_components)\n",
    "\n",
    "    # Rename the keys in the state dictionary\n",
    "    renamed_sae_list = rename_keys(sae_list)\n",
    "\n",
    "    # Load the state dictionary into the model instance\n",
    "    sae.load_state_dict(renamed_sae_list)\n",
    "    return sae\n",
    "\n",
    "sae_local = load_sae(model_id, local_name).to(device)\n",
    "sae_downstream = load_sae(model_id, downstream_name).to(device)"
   ]
  },
  {
   "cell_type": "code",
   "execution_count": 4,
   "metadata": {},
   "outputs": [
    {
     "name": "stdout",
     "output_type": "stream",
     "text": [
      "Downloading stas/openwebtext-10k\n"
     ]
    },
    {
     "name": "stderr",
     "output_type": "stream",
     "text": [
      "/usr/lib/python3/dist-packages/scipy/__init__.py:146: UserWarning: A NumPy version >=1.17.3 and <1.25.0 is required for this version of SciPy (detected version 1.25.2\n",
      "  warnings.warn(f\"A NumPy version >={np_minversion} and <{np_maxversion}\"\n"
     ]
    }
   ],
   "source": [
    "from datasets import load_dataset\n",
    "from torch.utils.data import DataLoader\n",
    "from tqdm import tqdm\n",
    "from einops import rearrange\n",
    "\n",
    "def download_dataset(dataset_name, tokenizer, max_length=256, num_datapoints=None):\n",
    "    if(num_datapoints):\n",
    "        split_text = f\"train[:{num_datapoints}]\"\n",
    "    else:\n",
    "        split_text = \"train\"\n",
    "    dataset = load_dataset(dataset_name, split=split_text).map(\n",
    "        lambda x: tokenizer(x['text']),\n",
    "        batched=True,\n",
    "    ).filter(\n",
    "        lambda x: len(x['input_ids']) > max_length\n",
    "    ).map(\n",
    "        lambda x: {'input_ids': x['input_ids'][:max_length]}\n",
    "    )\n",
    "    return dataset\n",
    "\n",
    "dataset_name = \"stas/openwebtext-10k\"\n",
    "max_seq_length = 40\n",
    "print(f\"Downloading {dataset_name}\")\n",
    "dataset = download_dataset(dataset_name, tokenizer=model.tokenizer, max_length=max_seq_length, num_datapoints=None) # num_datapoints grabs all of them if None"
   ]
  },
  {
   "cell_type": "code",
   "execution_count": 5,
   "metadata": {},
   "outputs": [],
   "source": [
    "# now run through the model & grab activations to get dead features\n",
    "def get_dictionary_activations(model, dataset, cache_name, max_seq_length, autoencoder, batch_size=32):\n",
    "    device = model.cfg.device\n",
    "    num_features, d_model = autoencoder.encoder[0].weight.shape\n",
    "    datapoints = dataset.num_rows\n",
    "    dictionary_activations = torch.zeros((datapoints*max_seq_length, num_features))\n",
    "    token_list = torch.zeros((datapoints*max_seq_length), dtype=torch.int64)\n",
    "    with torch.no_grad(), dataset.formatted_as(\"pt\"):\n",
    "        dl = DataLoader(dataset[\"input_ids\"], batch_size=batch_size)\n",
    "        for i, batch in enumerate(tqdm(dl)):\n",
    "            batch = batch.to(device)\n",
    "            token_list[i*batch_size*max_seq_length:(i+1)*batch_size*max_seq_length] = rearrange(batch, \"b s -> (b s)\")\n",
    "            # with Trace(model, cache_name) as ret:\n",
    "            #     _ = model(batch).logits\n",
    "            #     internal_activations = ret.output\n",
    "            #     # check if instance tuple\n",
    "            #     if(isinstance(internal_activations, tuple)):\n",
    "            #         internal_activations = internal_activations[0]\n",
    "            _, cache = model.run_with_cache(batch)\n",
    "            # print(cache)\n",
    "            internal_activations = cache[cache_name]\n",
    "            batched_neuron_activations = rearrange(internal_activations, \"b s n -> (b s) n\" )\n",
    "            batched_dictionary_activations = autoencoder.encoder(batched_neuron_activations)\n",
    "            dictionary_activations[i*batch_size*max_seq_length:(i+1)*batch_size*max_seq_length,:] = batched_dictionary_activations.cpu()\n",
    "    return dictionary_activations, token_list\n",
    "\n",
    "batch_size = 128\n",
    "activation_name = f\"blocks.{layer}.hook_resid_post\""
   ]
  },
  {
   "cell_type": "code",
   "execution_count": 6,
   "metadata": {},
   "outputs": [
    {
     "name": "stderr",
     "output_type": "stream",
     "text": [
      "100%|██████████| 79/79 [00:46<00:00,  1.71it/s]\n",
      "100%|██████████| 79/79 [00:45<00:00,  1.72it/s]\n"
     ]
    }
   ],
   "source": [
    "local_dictionary_activations, local_token_list = get_dictionary_activations(model, dataset, activation_name, max_seq_length, sae_local, batch_size=batch_size)\n",
    "downstream_dictionary_activations, downstream_token_list = get_dictionary_activations(model, dataset, activation_name, max_seq_length, sae_downstream, batch_size=batch_size)"
   ]
  },
  {
   "cell_type": "code",
   "execution_count": 7,
   "metadata": {},
   "outputs": [],
   "source": [
    "do_decoder = True\n",
    "\n",
    "if(do_decoder):\n",
    "    dec_local = sae_local.decoder.weight.data\n",
    "    dec_downstream = sae_downstream.decoder.weight.data\n",
    "else:\n",
    "    dec_local = sae_local.encoder[0].weight.data.T\n",
    "    dec_downstream = sae_downstream.encoder[0].weight.data.T\n",
    "\n",
    "dec_local = dec_local / dec_local.norm(dim=0, keepdim=True)\n",
    "dec_downstream = dec_downstream / dec_downstream.norm(dim=0, keepdim=True)"
   ]
  },
  {
   "cell_type": "code",
   "execution_count": 8,
   "metadata": {},
   "outputs": [],
   "source": [
    "# Compute cos sim\n",
    "cos_sim = torch.mm(dec_local.T, dec_downstream)\n",
    "\n",
    "# Find pairs of local & downstream features w/ cos sim > 0.9\n",
    "threshold = 0.9\n",
    "high_cos_sim_pairs = torch.nonzero(cos_sim > threshold)"
   ]
  },
  {
   "cell_type": "code",
   "execution_count": 9,
   "metadata": {},
   "outputs": [
    {
     "data": {
      "text/plain": [
       "torch.Size([46080, 46080])"
      ]
     },
     "execution_count": 9,
     "metadata": {},
     "output_type": "execute_result"
    }
   ],
   "source": [
    "# Sanity check (cos_sim has shape feature x feature)\n",
    "cos_sim.shape"
   ]
  },
  {
   "cell_type": "code",
   "execution_count": 10,
   "metadata": {},
   "outputs": [
    {
     "data": {
      "text/plain": [
       "tensor([0.9144, 0.9669, 0.9729,  ..., 0.9210, 0.9125, 0.9211], device='cuda:0')"
      ]
     },
     "execution_count": 10,
     "metadata": {},
     "output_type": "execute_result"
    }
   ],
   "source": [
    "# Sanity check (use high_cos_sim_pairs to index into cos_sim gives values > threshold)\n",
    "cos_sim[high_cos_sim_pairs[:, 0], high_cos_sim_pairs[:, 1]]"
   ]
  },
  {
   "cell_type": "code",
   "execution_count": 11,
   "metadata": {},
   "outputs": [
    {
     "data": {
      "text/plain": [
       "7750"
      ]
     },
     "execution_count": 11,
     "metadata": {},
     "output_type": "execute_result"
    }
   ],
   "source": [
    "len(high_cos_sim_pairs)"
   ]
  },
  {
   "cell_type": "code",
   "execution_count": 12,
   "metadata": {},
   "outputs": [],
   "source": [
    "def get_activation_overlap(local_active, downstream_active):\n",
    "    # Get active inputs for both local & downstream\n",
    "    both_active = local_active & downstream_active\n",
    "    \n",
    "    # Calculate counts\n",
    "    local_active_count = local_active.sum().item()\n",
    "    downstream_active_count = downstream_active.sum().item()\n",
    "    both_active_count = both_active.sum().item()\n",
    "    \n",
    "    # Calculate percentages\n",
    "    if local_active_count > 0:\n",
    "        percent_of_local = (both_active_count / local_active_count) * 100\n",
    "    else:\n",
    "        percent_of_local = 0\n",
    "    \n",
    "    if downstream_active_count > 0:\n",
    "        percent_of_downstream = (both_active_count / downstream_active_count) * 100\n",
    "    else:\n",
    "        percent_of_downstream = 0\n",
    "    \n",
    "    return {\n",
    "        \"percent_of_local\": percent_of_local,\n",
    "        \"percent_of_downstream\": percent_of_downstream,\n",
    "        \"local_active_count\": local_active_count,\n",
    "        \"downstream_active_count\": downstream_active_count,\n",
    "        \"both_active_count\": both_active_count\n",
    "    }"
   ]
  },
  {
   "cell_type": "code",
   "execution_count": 13,
   "metadata": {},
   "outputs": [],
   "source": [
    "def find_activation_contexts(activations, token_list, top_k=20):\n",
    "    top_indices = torch.argsort(activations, descending=True)[:top_k]\n",
    "    contexts = [token_list[idx-2:idx+3].tolist() for idx in top_indices]\n",
    "    return contexts"
   ]
  },
  {
   "cell_type": "code",
   "execution_count": 14,
   "metadata": {},
   "outputs": [
    {
     "name": "stderr",
     "output_type": "stream",
     "text": [
      "  0%|          | 24/7750 [00:00<01:43, 74.85it/s]"
     ]
    },
    {
     "name": "stdout",
     "output_type": "stream",
     "text": [
      "{'percent_of_local': 93.33333333333333, 'percent_of_downstream': 58.333333333333336, 'local_active_count': 105, 'downstream_active_count': 168, 'both_active_count': 98}\n",
      "{'percent_of_local': 93.04347826086956, 'percent_of_downstream': 85.6, 'local_active_count': 115, 'downstream_active_count': 125, 'both_active_count': 107}\n",
      "{'percent_of_local': 94.79166666666666, 'percent_of_downstream': 77.11864406779661, 'local_active_count': 96, 'downstream_active_count': 118, 'both_active_count': 91}\n"
     ]
    },
    {
     "name": "stderr",
     "output_type": "stream",
     "text": [
      "  1%|          | 54/7750 [00:00<01:06, 116.58it/s]"
     ]
    },
    {
     "name": "stdout",
     "output_type": "stream",
     "text": [
      "{'percent_of_local': 92.39766081871345, 'percent_of_downstream': 49.52978056426332, 'local_active_count': 171, 'downstream_active_count': 319, 'both_active_count': 158}\n"
     ]
    },
    {
     "name": "stderr",
     "output_type": "stream",
     "text": [
      "  1%|          | 78/7750 [00:00<01:07, 114.14it/s]"
     ]
    },
    {
     "name": "stdout",
     "output_type": "stream",
     "text": [
      "{'percent_of_local': 100.0, 'percent_of_downstream': 50.0, 'local_active_count': 1, 'downstream_active_count': 2, 'both_active_count': 1}\n",
      "{'percent_of_local': 91.5, 'percent_of_downstream': 62.45733788395904, 'local_active_count': 200, 'downstream_active_count': 293, 'both_active_count': 183}\n"
     ]
    },
    {
     "name": "stderr",
     "output_type": "stream",
     "text": [
      "  2%|▏         | 127/7750 [00:01<00:55, 136.73it/s]"
     ]
    },
    {
     "name": "stdout",
     "output_type": "stream",
     "text": [
      "{'percent_of_local': 90.87947882736157, 'percent_of_downstream': 78.15126050420169, 'local_active_count': 307, 'downstream_active_count': 357, 'both_active_count': 279}\n",
      "{'percent_of_local': 92.0, 'percent_of_downstream': 45.09803921568628, 'local_active_count': 75, 'downstream_active_count': 153, 'both_active_count': 69}\n"
     ]
    },
    {
     "name": "stderr",
     "output_type": "stream",
     "text": [
      "  2%|▏         | 176/7750 [00:01<00:51, 147.43it/s]"
     ]
    },
    {
     "name": "stdout",
     "output_type": "stream",
     "text": [
      "{'percent_of_local': 96.01873536299766, 'percent_of_downstream': 80.31341821743389, 'local_active_count': 854, 'downstream_active_count': 1021, 'both_active_count': 820}\n"
     ]
    },
    {
     "name": "stderr",
     "output_type": "stream",
     "text": [
      "  3%|▎         | 230/7750 [00:01<00:53, 141.41it/s]"
     ]
    },
    {
     "name": "stdout",
     "output_type": "stream",
     "text": [
      "{'percent_of_local': 92.56198347107438, 'percent_of_downstream': 50.90909090909091, 'local_active_count': 121, 'downstream_active_count': 220, 'both_active_count': 112}\n",
      "{'percent_of_local': 91.30434782608695, 'percent_of_downstream': 34.7682119205298, 'local_active_count': 115, 'downstream_active_count': 302, 'both_active_count': 105}\n"
     ]
    },
    {
     "name": "stderr",
     "output_type": "stream",
     "text": [
      "  3%|▎         | 260/7750 [00:02<00:54, 138.25it/s]"
     ]
    },
    {
     "name": "stdout",
     "output_type": "stream",
     "text": [
      "{'percent_of_local': 93.56913183279742, 'percent_of_downstream': 65.54054054054053, 'local_active_count': 311, 'downstream_active_count': 444, 'both_active_count': 291}\n",
      "{'percent_of_local': 94.67213114754098, 'percent_of_downstream': 53.97196261682243, 'local_active_count': 244, 'downstream_active_count': 428, 'both_active_count': 231}\n"
     ]
    },
    {
     "name": "stderr",
     "output_type": "stream",
     "text": [
      "  4%|▍         | 309/7750 [00:02<00:51, 145.69it/s]"
     ]
    },
    {
     "name": "stdout",
     "output_type": "stream",
     "text": [
      "{'percent_of_local': 91.66666666666666, 'percent_of_downstream': 22.22222222222222, 'local_active_count': 48, 'downstream_active_count': 198, 'both_active_count': 44}\n"
     ]
    },
    {
     "name": "stderr",
     "output_type": "stream",
     "text": [
      "  5%|▌         | 392/7750 [00:02<00:49, 147.41it/s]"
     ]
    },
    {
     "name": "stdout",
     "output_type": "stream",
     "text": [
      "{'percent_of_local': 91.31832797427653, 'percent_of_downstream': 43.49157733537519, 'local_active_count': 311, 'downstream_active_count': 653, 'both_active_count': 284}\n",
      "{'percent_of_local': 93.05019305019306, 'percent_of_downstream': 61.16751269035533, 'local_active_count': 259, 'downstream_active_count': 394, 'both_active_count': 241}\n"
     ]
    },
    {
     "name": "stderr",
     "output_type": "stream",
     "text": [
      "  5%|▌         | 426/7750 [00:03<00:47, 154.50it/s]"
     ]
    },
    {
     "name": "stdout",
     "output_type": "stream",
     "text": [
      "{'percent_of_local': 92.11908931698774, 'percent_of_downstream': 73.9803094233474, 'local_active_count': 571, 'downstream_active_count': 711, 'both_active_count': 526}\n"
     ]
    },
    {
     "name": "stderr",
     "output_type": "stream",
     "text": [
      "  6%|▌         | 457/7750 [00:03<00:51, 141.26it/s]"
     ]
    },
    {
     "name": "stdout",
     "output_type": "stream",
     "text": [
      "{'percent_of_local': 92.60143198090692, 'percent_of_downstream': 77.91164658634538, 'local_active_count': 419, 'downstream_active_count': 498, 'both_active_count': 388}\n",
      "{'percent_of_local': 92.10526315789474, 'percent_of_downstream': 75.17899761336515, 'local_active_count': 342, 'downstream_active_count': 419, 'both_active_count': 315}\n"
     ]
    },
    {
     "name": "stderr",
     "output_type": "stream",
     "text": [
      "  6%|▋         | 490/7750 [00:03<00:51, 141.57it/s]"
     ]
    },
    {
     "name": "stdout",
     "output_type": "stream",
     "text": [
      "{'percent_of_local': 95.6896551724138, 'percent_of_downstream': 50.0, 'local_active_count': 116, 'downstream_active_count': 222, 'both_active_count': 111}\n",
      "{'percent_of_local': 92.14501510574019, 'percent_of_downstream': 48.722044728434504, 'local_active_count': 331, 'downstream_active_count': 626, 'both_active_count': 305}\n"
     ]
    },
    {
     "name": "stderr",
     "output_type": "stream",
     "text": [
      "  7%|▋         | 540/7750 [00:03<00:54, 131.36it/s]"
     ]
    },
    {
     "name": "stdout",
     "output_type": "stream",
     "text": [
      "{'percent_of_local': 91.57608695652173, 'percent_of_downstream': 81.79611650485437, 'local_active_count': 368, 'downstream_active_count': 412, 'both_active_count': 337}\n",
      "{'percent_of_local': 92.5925925925926, 'percent_of_downstream': 41.899441340782126, 'local_active_count': 162, 'downstream_active_count': 358, 'both_active_count': 150}\n"
     ]
    },
    {
     "name": "stderr",
     "output_type": "stream",
     "text": [
      " 12%|█▏        | 914/7750 [00:05<00:40, 168.87it/s]"
     ]
    },
    {
     "name": "stdout",
     "output_type": "stream",
     "text": [
      "{'percent_of_local': 93.47079037800687, 'percent_of_downstream': 73.71273712737127, 'local_active_count': 291, 'downstream_active_count': 369, 'both_active_count': 272}\n"
     ]
    },
    {
     "name": "stderr",
     "output_type": "stream",
     "text": [
      " 12%|█▏        | 952/7750 [00:06<00:38, 176.42it/s]"
     ]
    },
    {
     "name": "stdout",
     "output_type": "stream",
     "text": [
      "{'percent_of_local': 93.3920704845815, 'percent_of_downstream': 69.28104575163398, 'local_active_count': 227, 'downstream_active_count': 306, 'both_active_count': 212}\n"
     ]
    },
    {
     "name": "stderr",
     "output_type": "stream",
     "text": [
      " 13%|█▎        | 1004/7750 [00:06<00:49, 135.75it/s]"
     ]
    },
    {
     "name": "stdout",
     "output_type": "stream",
     "text": [
      "{'percent_of_local': 92.57950530035336, 'percent_of_downstream': 60.78886310904872, 'local_active_count': 283, 'downstream_active_count': 431, 'both_active_count': 262}\n"
     ]
    },
    {
     "name": "stderr",
     "output_type": "stream",
     "text": [
      " 14%|█▎        | 1055/7750 [00:07<00:50, 133.72it/s]"
     ]
    },
    {
     "name": "stdout",
     "output_type": "stream",
     "text": [
      "{'percent_of_local': 91.66666666666666, 'percent_of_downstream': 53.398058252427184, 'local_active_count': 120, 'downstream_active_count': 206, 'both_active_count': 110}\n",
      "{'percent_of_local': 95.3125, 'percent_of_downstream': 47.10424710424711, 'local_active_count': 128, 'downstream_active_count': 259, 'both_active_count': 122}\n"
     ]
    },
    {
     "name": "stderr",
     "output_type": "stream",
     "text": [
      " 14%|█▍        | 1110/7750 [00:07<00:43, 151.41it/s]"
     ]
    },
    {
     "name": "stdout",
     "output_type": "stream",
     "text": [
      "{'percent_of_local': 94.39252336448598, 'percent_of_downstream': 59.940652818991104, 'local_active_count': 214, 'downstream_active_count': 337, 'both_active_count': 202}\n"
     ]
    },
    {
     "name": "stderr",
     "output_type": "stream",
     "text": [
      " 15%|█▌        | 1189/7750 [00:07<00:40, 161.93it/s]"
     ]
    },
    {
     "name": "stdout",
     "output_type": "stream",
     "text": [
      "{'percent_of_local': 91.77215189873418, 'percent_of_downstream': 43.41317365269461, 'local_active_count': 158, 'downstream_active_count': 334, 'both_active_count': 145}\n"
     ]
    },
    {
     "name": "stderr",
     "output_type": "stream",
     "text": [
      " 17%|█▋        | 1281/7750 [00:08<00:40, 161.34it/s]"
     ]
    },
    {
     "name": "stdout",
     "output_type": "stream",
     "text": [
      "{'percent_of_local': 94.16666666666667, 'percent_of_downstream': 66.47058823529412, 'local_active_count': 120, 'downstream_active_count': 170, 'both_active_count': 113}\n",
      "{'percent_of_local': 96.96969696969697, 'percent_of_downstream': 94.11764705882352, 'local_active_count': 33, 'downstream_active_count': 34, 'both_active_count': 32}\n",
      "{'percent_of_local': 92.57950530035336, 'percent_of_downstream': 50.67698259187621, 'local_active_count': 283, 'downstream_active_count': 517, 'both_active_count': 262}\n"
     ]
    },
    {
     "name": "stderr",
     "output_type": "stream",
     "text": [
      " 17%|█▋        | 1349/7750 [00:08<00:45, 141.64it/s]"
     ]
    },
    {
     "name": "stdout",
     "output_type": "stream",
     "text": [
      "{'percent_of_local': 92.7927927927928, 'percent_of_downstream': 50.73891625615764, 'local_active_count': 111, 'downstream_active_count': 203, 'both_active_count': 103}\n",
      "{'percent_of_local': 90.7928388746803, 'percent_of_downstream': 66.10800744878958, 'local_active_count': 391, 'downstream_active_count': 537, 'both_active_count': 355}\n"
     ]
    },
    {
     "name": "stderr",
     "output_type": "stream",
     "text": [
      " 18%|█▊        | 1367/7750 [00:08<00:42, 151.36it/s]"
     ]
    },
    {
     "name": "stdout",
     "output_type": "stream",
     "text": [
      "{'percent_of_local': 95.08196721311475, 'percent_of_downstream': 35.80246913580247, 'local_active_count': 122, 'downstream_active_count': 324, 'both_active_count': 116}\n"
     ]
    },
    {
     "name": "stderr",
     "output_type": "stream",
     "text": [
      " 18%|█▊        | 1415/7750 [00:09<00:47, 133.17it/s]"
     ]
    },
    {
     "name": "stdout",
     "output_type": "stream",
     "text": [
      "{'percent_of_local': 93.75, 'percent_of_downstream': 57.692307692307686, 'local_active_count': 240, 'downstream_active_count': 390, 'both_active_count': 225}\n",
      "{'percent_of_local': 92.14285714285714, 'percent_of_downstream': 60.56338028169014, 'local_active_count': 140, 'downstream_active_count': 213, 'both_active_count': 129}\n"
     ]
    },
    {
     "name": "stderr",
     "output_type": "stream",
     "text": [
      " 19%|█▉        | 1462/7750 [00:09<00:49, 127.72it/s]"
     ]
    },
    {
     "name": "stdout",
     "output_type": "stream",
     "text": [
      "{'percent_of_local': 91.07142857142857, 'percent_of_downstream': 66.23376623376623, 'local_active_count': 56, 'downstream_active_count': 77, 'both_active_count': 51}\n",
      "{'percent_of_local': 94.6450809464508, 'percent_of_downstream': 91.01796407185628, 'local_active_count': 803, 'downstream_active_count': 835, 'both_active_count': 760}\n"
     ]
    },
    {
     "name": "stderr",
     "output_type": "stream",
     "text": [
      " 20%|█▉        | 1514/7750 [00:10<00:40, 152.64it/s]"
     ]
    },
    {
     "name": "stdout",
     "output_type": "stream",
     "text": [
      "{'percent_of_local': 100.0, 'percent_of_downstream': 50.0, 'local_active_count': 1, 'downstream_active_count': 2, 'both_active_count': 1}\n"
     ]
    },
    {
     "name": "stderr",
     "output_type": "stream",
     "text": [
      " 20%|█▉        | 1530/7750 [00:10<00:45, 135.89it/s]"
     ]
    },
    {
     "name": "stdout",
     "output_type": "stream",
     "text": [
      "{'percent_of_local': 92.82051282051282, 'percent_of_downstream': 90.04975124378109, 'local_active_count': 195, 'downstream_active_count': 201, 'both_active_count': 181}\n",
      "{'percent_of_local': 91.83673469387756, 'percent_of_downstream': 53.25443786982249, 'local_active_count': 98, 'downstream_active_count': 169, 'both_active_count': 90}\n"
     ]
    },
    {
     "name": "stderr",
     "output_type": "stream",
     "text": [
      " 20%|██        | 1583/7750 [00:10<00:40, 153.63it/s]"
     ]
    },
    {
     "name": "stdout",
     "output_type": "stream",
     "text": [
      "{'percent_of_local': 92.10526315789474, 'percent_of_downstream': 40.69767441860465, 'local_active_count': 152, 'downstream_active_count': 344, 'both_active_count': 140}\n"
     ]
    },
    {
     "name": "stderr",
     "output_type": "stream",
     "text": [
      " 21%|██        | 1635/7750 [00:10<00:38, 157.78it/s]"
     ]
    },
    {
     "name": "stdout",
     "output_type": "stream",
     "text": [
      "{'percent_of_local': 90.990990990991, 'percent_of_downstream': 40.725806451612904, 'local_active_count': 111, 'downstream_active_count': 248, 'both_active_count': 101}\n"
     ]
    },
    {
     "name": "stderr",
     "output_type": "stream",
     "text": [
      " 22%|██▏       | 1727/7750 [00:11<00:35, 168.45it/s]"
     ]
    },
    {
     "name": "stdout",
     "output_type": "stream",
     "text": [
      "{'percent_of_local': 100.0, 'percent_of_downstream': 50.0, 'local_active_count': 1, 'downstream_active_count': 2, 'both_active_count': 1}\n"
     ]
    },
    {
     "name": "stderr",
     "output_type": "stream",
     "text": [
      " 23%|██▎       | 1818/7750 [00:11<00:36, 163.59it/s]"
     ]
    },
    {
     "name": "stdout",
     "output_type": "stream",
     "text": [
      "{'percent_of_local': 92.02898550724638, 'percent_of_downstream': 72.1590909090909, 'local_active_count': 138, 'downstream_active_count': 176, 'both_active_count': 127}\n"
     ]
    },
    {
     "name": "stderr",
     "output_type": "stream",
     "text": [
      " 24%|██▍       | 1873/7750 [00:12<00:36, 162.32it/s]"
     ]
    },
    {
     "name": "stdout",
     "output_type": "stream",
     "text": [
      "{'percent_of_local': 93.98907103825137, 'percent_of_downstream': 58.30508474576271, 'local_active_count': 183, 'downstream_active_count': 295, 'both_active_count': 172}\n"
     ]
    },
    {
     "name": "stderr",
     "output_type": "stream",
     "text": [
      " 25%|██▌       | 1946/7750 [00:12<00:35, 162.97it/s]"
     ]
    },
    {
     "name": "stdout",
     "output_type": "stream",
     "text": [
      "{'percent_of_local': 90.18691588785047, 'percent_of_downstream': 64.11960132890366, 'local_active_count': 214, 'downstream_active_count': 301, 'both_active_count': 193}\n"
     ]
    },
    {
     "name": "stderr",
     "output_type": "stream",
     "text": [
      " 26%|██▌       | 1983/7750 [00:12<00:36, 157.06it/s]"
     ]
    },
    {
     "name": "stdout",
     "output_type": "stream",
     "text": [
      "{'percent_of_local': 93.29073482428115, 'percent_of_downstream': 58.752515090543255, 'local_active_count': 313, 'downstream_active_count': 497, 'both_active_count': 292}\n",
      "{'percent_of_local': 96.37305699481865, 'percent_of_downstream': 41.517857142857146, 'local_active_count': 193, 'downstream_active_count': 448, 'both_active_count': 186}\n"
     ]
    },
    {
     "name": "stderr",
     "output_type": "stream",
     "text": [
      " 27%|██▋       | 2091/7750 [00:13<00:34, 162.70it/s]"
     ]
    },
    {
     "name": "stdout",
     "output_type": "stream",
     "text": [
      "{'percent_of_local': 90.76923076923077, 'percent_of_downstream': 78.85783718104496, 'local_active_count': 715, 'downstream_active_count': 823, 'both_active_count': 649}\n"
     ]
    },
    {
     "name": "stderr",
     "output_type": "stream",
     "text": [
      " 28%|██▊       | 2164/7750 [00:14<00:35, 158.44it/s]"
     ]
    },
    {
     "name": "stdout",
     "output_type": "stream",
     "text": [
      "{'percent_of_local': 93.49112426035504, 'percent_of_downstream': 68.69565217391305, 'local_active_count': 169, 'downstream_active_count': 230, 'both_active_count': 158}\n"
     ]
    },
    {
     "name": "stderr",
     "output_type": "stream",
     "text": [
      " 29%|██▉       | 2272/7750 [00:14<00:33, 161.66it/s]"
     ]
    },
    {
     "name": "stdout",
     "output_type": "stream",
     "text": [
      "{'percent_of_local': 90.37433155080214, 'percent_of_downstream': 86.88946015424165, 'local_active_count': 374, 'downstream_active_count': 389, 'both_active_count': 338}\n",
      "{'percent_of_local': 99.97961056172903, 'percent_of_downstream': 98.07000000000001, 'local_active_count': 9809, 'downstream_active_count': 10000, 'both_active_count': 9807}\n",
      "{'percent_of_local': 99.97961056172903, 'percent_of_downstream': 98.07000000000001, 'local_active_count': 9809, 'downstream_active_count': 10000, 'both_active_count': 9807}\n",
      "{'percent_of_local': 99.97961056172903, 'percent_of_downstream': 98.07000000000001, 'local_active_count': 9809, 'downstream_active_count': 10000, 'both_active_count': 9807}\n",
      "{'percent_of_local': 99.97961056172903, 'percent_of_downstream': 98.07000000000001, 'local_active_count': 9809, 'downstream_active_count': 10000, 'both_active_count': 9807}\n",
      "{'percent_of_local': 99.97961056172903, 'percent_of_downstream': 98.07000000000001, 'local_active_count': 9809, 'downstream_active_count': 10000, 'both_active_count': 9807}\n",
      "{'percent_of_local': 99.97961056172903, 'percent_of_downstream': 98.07000000000001, 'local_active_count': 9809, 'downstream_active_count': 10000, 'both_active_count': 9807}\n",
      "{'percent_of_local': 99.97961056172903, 'percent_of_downstream': 98.07000000000001, 'local_active_count': 9809, 'downstream_active_count': 10000, 'both_active_count': 9807}\n"
     ]
    },
    {
     "name": "stderr",
     "output_type": "stream",
     "text": [
      " 30%|██▉       | 2289/7750 [00:15<00:53, 102.05it/s]"
     ]
    },
    {
     "name": "stdout",
     "output_type": "stream",
     "text": [
      "{'percent_of_local': 99.97961056172903, 'percent_of_downstream': 98.07000000000001, 'local_active_count': 9809, 'downstream_active_count': 10000, 'both_active_count': 9807}\n",
      "{'percent_of_local': 99.97961056172903, 'percent_of_downstream': 98.07000000000001, 'local_active_count': 9809, 'downstream_active_count': 10000, 'both_active_count': 9807}\n"
     ]
    },
    {
     "name": "stderr",
     "output_type": "stream",
     "text": [
      " 30%|██▉       | 2303/7750 [00:15<01:21, 66.84it/s] "
     ]
    },
    {
     "name": "stdout",
     "output_type": "stream",
     "text": [
      "{'percent_of_local': 99.97961056172903, 'percent_of_downstream': 98.07000000000001, 'local_active_count': 9809, 'downstream_active_count': 10000, 'both_active_count': 9807}\n",
      "{'percent_of_local': 99.97961056172903, 'percent_of_downstream': 98.07000000000001, 'local_active_count': 9809, 'downstream_active_count': 10000, 'both_active_count': 9807}\n",
      "{'percent_of_local': 99.97961056172903, 'percent_of_downstream': 98.07000000000001, 'local_active_count': 9809, 'downstream_active_count': 10000, 'both_active_count': 9807}\n",
      "{'percent_of_local': 99.97961056172903, 'percent_of_downstream': 98.07000000000001, 'local_active_count': 9809, 'downstream_active_count': 10000, 'both_active_count': 9807}\n"
     ]
    },
    {
     "name": "stderr",
     "output_type": "stream",
     "text": [
      " 30%|██▉       | 2314/7750 [00:15<01:18, 68.94it/s]"
     ]
    },
    {
     "name": "stdout",
     "output_type": "stream",
     "text": [
      "{'percent_of_local': 99.97961056172903, 'percent_of_downstream': 98.07000000000001, 'local_active_count': 9809, 'downstream_active_count': 10000, 'both_active_count': 9807}\n",
      "{'percent_of_local': 99.97961056172903, 'percent_of_downstream': 98.07000000000001, 'local_active_count': 9809, 'downstream_active_count': 10000, 'both_active_count': 9807}\n"
     ]
    },
    {
     "name": "stderr",
     "output_type": "stream",
     "text": [
      " 31%|███       | 2378/7750 [00:16<00:50, 105.74it/s]"
     ]
    },
    {
     "name": "stdout",
     "output_type": "stream",
     "text": [
      "{'percent_of_local': 95.40636042402826, 'percent_of_downstream': 61.224489795918366, 'local_active_count': 283, 'downstream_active_count': 441, 'both_active_count': 270}\n",
      "{'percent_of_local': 93.53535353535354, 'percent_of_downstream': 69.93957703927492, 'local_active_count': 495, 'downstream_active_count': 662, 'both_active_count': 463}\n"
     ]
    },
    {
     "name": "stderr",
     "output_type": "stream",
     "text": [
      " 31%|███       | 2409/7750 [00:16<00:41, 127.70it/s]"
     ]
    },
    {
     "name": "stdout",
     "output_type": "stream",
     "text": [
      "{'percent_of_local': 90.04149377593362, 'percent_of_downstream': 45.492662473794546, 'local_active_count': 482, 'downstream_active_count': 954, 'both_active_count': 434}\n"
     ]
    },
    {
     "name": "stderr",
     "output_type": "stream",
     "text": [
      " 32%|███▏      | 2502/7750 [00:16<00:31, 164.44it/s]"
     ]
    },
    {
     "name": "stdout",
     "output_type": "stream",
     "text": [
      "{'percent_of_local': 96.7741935483871, 'percent_of_downstream': 35.92814371257485, 'local_active_count': 186, 'downstream_active_count': 501, 'both_active_count': 180}\n"
     ]
    },
    {
     "name": "stderr",
     "output_type": "stream",
     "text": [
      " 35%|███▍      | 2683/7750 [00:17<00:29, 170.55it/s]"
     ]
    },
    {
     "name": "stdout",
     "output_type": "stream",
     "text": [
      "{'percent_of_local': 93.21266968325791, 'percent_of_downstream': 68.66666666666667, 'local_active_count': 221, 'downstream_active_count': 300, 'both_active_count': 206}\n",
      "{'percent_of_local': 100.0, 'percent_of_downstream': 50.0, 'local_active_count': 1, 'downstream_active_count': 2, 'both_active_count': 1}\n"
     ]
    },
    {
     "name": "stderr",
     "output_type": "stream",
     "text": [
      " 36%|███▋      | 2814/7750 [00:18<00:32, 151.90it/s]"
     ]
    },
    {
     "name": "stdout",
     "output_type": "stream",
     "text": [
      "{'percent_of_local': 93.18181818181817, 'percent_of_downstream': 20.812182741116754, 'local_active_count': 44, 'downstream_active_count': 197, 'both_active_count': 41}\n",
      "{'percent_of_local': 93.58974358974359, 'percent_of_downstream': 37.53213367609254, 'local_active_count': 156, 'downstream_active_count': 389, 'both_active_count': 146}\n"
     ]
    },
    {
     "name": "stderr",
     "output_type": "stream",
     "text": [
      " 37%|███▋      | 2849/7750 [00:18<00:31, 154.37it/s]"
     ]
    },
    {
     "name": "stdout",
     "output_type": "stream",
     "text": [
      "{'percent_of_local': 94.16058394160584, 'percent_of_downstream': 36.96275071633238, 'local_active_count': 137, 'downstream_active_count': 349, 'both_active_count': 129}\n"
     ]
    },
    {
     "name": "stderr",
     "output_type": "stream",
     "text": [
      " 37%|███▋      | 2884/7750 [00:19<00:34, 142.89it/s]"
     ]
    },
    {
     "name": "stdout",
     "output_type": "stream",
     "text": [
      "{'percent_of_local': 94.11764705882352, 'percent_of_downstream': 23.69607211848036, 'local_active_count': 391, 'downstream_active_count': 1553, 'both_active_count': 368}\n",
      "{'percent_of_local': 94.8905109489051, 'percent_of_downstream': 39.1566265060241, 'local_active_count': 137, 'downstream_active_count': 332, 'both_active_count': 130}\n"
     ]
    },
    {
     "name": "stderr",
     "output_type": "stream",
     "text": [
      " 38%|███▊      | 2918/7750 [00:19<00:34, 140.05it/s]"
     ]
    },
    {
     "name": "stdout",
     "output_type": "stream",
     "text": [
      "{'percent_of_local': 97.30458221024259, 'percent_of_downstream': 60.26711185308849, 'local_active_count': 371, 'downstream_active_count': 599, 'both_active_count': 361}\n",
      "{'percent_of_local': 90.625, 'percent_of_downstream': 43.28358208955223, 'local_active_count': 160, 'downstream_active_count': 335, 'both_active_count': 145}\n"
     ]
    },
    {
     "name": "stderr",
     "output_type": "stream",
     "text": [
      " 39%|███▉      | 3018/7750 [00:20<00:46, 101.68it/s]"
     ]
    },
    {
     "name": "stdout",
     "output_type": "stream",
     "text": [
      "{'percent_of_local': 92.16710182767625, 'percent_of_downstream': 73.08488612836439, 'local_active_count': 383, 'downstream_active_count': 483, 'both_active_count': 353}\n",
      "{'percent_of_local': 93.4931506849315, 'percent_of_downstream': 75.83333333333333, 'local_active_count': 292, 'downstream_active_count': 360, 'both_active_count': 273}\n"
     ]
    },
    {
     "name": "stderr",
     "output_type": "stream",
     "text": [
      " 40%|████      | 3103/7750 [00:20<00:41, 112.87it/s]"
     ]
    },
    {
     "name": "stdout",
     "output_type": "stream",
     "text": [
      "{'percent_of_local': 90.5241935483871, 'percent_of_downstream': 70.93206951026856, 'local_active_count': 496, 'downstream_active_count': 633, 'both_active_count': 449}\n",
      "{'percent_of_local': 93.0635838150289, 'percent_of_downstream': 48.93617021276596, 'local_active_count': 173, 'downstream_active_count': 329, 'both_active_count': 161}\n"
     ]
    },
    {
     "name": "stderr",
     "output_type": "stream",
     "text": [
      " 40%|████      | 3131/7750 [00:21<00:39, 117.84it/s]"
     ]
    },
    {
     "name": "stdout",
     "output_type": "stream",
     "text": [
      "{'percent_of_local': 91.78470254957507, 'percent_of_downstream': 82.44274809160305, 'local_active_count': 353, 'downstream_active_count': 393, 'both_active_count': 324}\n",
      "{'percent_of_local': 90.0632911392405, 'percent_of_downstream': 47.928595486695855, 'local_active_count': 1580, 'downstream_active_count': 2969, 'both_active_count': 1423}\n"
     ]
    },
    {
     "name": "stderr",
     "output_type": "stream",
     "text": [
      " 41%|████      | 3156/7750 [00:21<00:45, 101.01it/s]"
     ]
    },
    {
     "name": "stdout",
     "output_type": "stream",
     "text": [
      "{'percent_of_local': 90.15544041450777, 'percent_of_downstream': 50.72886297376093, 'local_active_count': 193, 'downstream_active_count': 343, 'both_active_count': 174}\n",
      "{'percent_of_local': 91.16279069767442, 'percent_of_downstream': 51.44356955380578, 'local_active_count': 215, 'downstream_active_count': 381, 'both_active_count': 196}\n"
     ]
    },
    {
     "name": "stderr",
     "output_type": "stream",
     "text": [
      " 41%|████▏     | 3199/7750 [00:21<00:38, 117.46it/s]"
     ]
    },
    {
     "name": "stdout",
     "output_type": "stream",
     "text": [
      "{'percent_of_local': 92.05298013245033, 'percent_of_downstream': 71.64948453608247, 'local_active_count': 151, 'downstream_active_count': 194, 'both_active_count': 139}\n",
      "{'percent_of_local': 94.84978540772532, 'percent_of_downstream': 62.78409090909091, 'local_active_count': 233, 'downstream_active_count': 352, 'both_active_count': 221}\n"
     ]
    },
    {
     "name": "stderr",
     "output_type": "stream",
     "text": [
      " 42%|████▏     | 3224/7750 [00:22<00:44, 101.08it/s]"
     ]
    },
    {
     "name": "stdout",
     "output_type": "stream",
     "text": [
      "{'percent_of_local': 90.12345679012346, 'percent_of_downstream': 63.75545851528385, 'local_active_count': 162, 'downstream_active_count': 229, 'both_active_count': 146}\n",
      "{'percent_of_local': 90.96774193548387, 'percent_of_downstream': 69.11764705882352, 'local_active_count': 155, 'downstream_active_count': 204, 'both_active_count': 141}\n"
     ]
    },
    {
     "name": "stderr",
     "output_type": "stream",
     "text": [
      " 43%|████▎     | 3339/7750 [00:22<00:34, 129.28it/s]"
     ]
    },
    {
     "name": "stdout",
     "output_type": "stream",
     "text": [
      "{'percent_of_local': 92.36111111111111, 'percent_of_downstream': 58.590308370044056, 'local_active_count': 144, 'downstream_active_count': 227, 'both_active_count': 133}\n"
     ]
    },
    {
     "name": "stderr",
     "output_type": "stream",
     "text": [
      " 43%|████▎     | 3368/7750 [00:23<00:34, 127.52it/s]"
     ]
    },
    {
     "name": "stdout",
     "output_type": "stream",
     "text": [
      "{'percent_of_local': 90.74074074074075, 'percent_of_downstream': 23.40764331210191, 'local_active_count': 162, 'downstream_active_count': 628, 'both_active_count': 147}\n"
     ]
    },
    {
     "name": "stderr",
     "output_type": "stream",
     "text": [
      " 44%|████▍     | 3441/7750 [00:23<00:36, 116.57it/s]"
     ]
    },
    {
     "name": "stdout",
     "output_type": "stream",
     "text": [
      "{'percent_of_local': 90.31007751937985, 'percent_of_downstream': 54.18604651162791, 'local_active_count': 258, 'downstream_active_count': 430, 'both_active_count': 233}\n",
      "{'percent_of_local': 96.58536585365853, 'percent_of_downstream': 43.23144104803494, 'local_active_count': 205, 'downstream_active_count': 458, 'both_active_count': 198}\n"
     ]
    },
    {
     "name": "stderr",
     "output_type": "stream",
     "text": [
      " 46%|████▌     | 3564/7750 [00:24<00:31, 134.38it/s]"
     ]
    },
    {
     "name": "stdout",
     "output_type": "stream",
     "text": [
      "{'percent_of_local': 90.72164948453609, 'percent_of_downstream': 74.36619718309859, 'local_active_count': 291, 'downstream_active_count': 355, 'both_active_count': 264}\n"
     ]
    },
    {
     "name": "stderr",
     "output_type": "stream",
     "text": [
      " 47%|████▋     | 3605/7750 [00:25<00:34, 118.55it/s]"
     ]
    },
    {
     "name": "stdout",
     "output_type": "stream",
     "text": [
      "{'percent_of_local': 92.5, 'percent_of_downstream': 53.23741007194245, 'local_active_count': 240, 'downstream_active_count': 417, 'both_active_count': 222}\n",
      "{'percent_of_local': 100.0, 'percent_of_downstream': 60.0, 'local_active_count': 3, 'downstream_active_count': 5, 'both_active_count': 3}\n"
     ]
    },
    {
     "name": "stderr",
     "output_type": "stream",
     "text": [
      " 48%|████▊     | 3705/7750 [00:25<00:29, 135.55it/s]"
     ]
    },
    {
     "name": "stdout",
     "output_type": "stream",
     "text": [
      "{'percent_of_local': 96.18055555555556, 'percent_of_downstream': 73.86666666666667, 'local_active_count': 288, 'downstream_active_count': 375, 'both_active_count': 277}\n"
     ]
    },
    {
     "name": "stderr",
     "output_type": "stream",
     "text": [
      " 48%|████▊     | 3742/7750 [00:26<00:52, 76.24it/s] "
     ]
    },
    {
     "name": "stdout",
     "output_type": "stream",
     "text": [
      "{'percent_of_local': 92.67399267399267, 'percent_of_downstream': 62.46913580246913, 'local_active_count': 273, 'downstream_active_count': 405, 'both_active_count': 253}\n"
     ]
    },
    {
     "name": "stderr",
     "output_type": "stream",
     "text": [
      " 49%|████▉     | 3788/7750 [00:26<00:36, 108.11it/s]"
     ]
    },
    {
     "name": "stdout",
     "output_type": "stream",
     "text": [
      "{'percent_of_local': 98.9655172413793, 'percent_of_downstream': 75.13089005235602, 'local_active_count': 290, 'downstream_active_count': 382, 'both_active_count': 287}\n",
      "{'percent_of_local': 94.09937888198758, 'percent_of_downstream': 64.19491525423729, 'local_active_count': 322, 'downstream_active_count': 472, 'both_active_count': 303}\n"
     ]
    },
    {
     "name": "stderr",
     "output_type": "stream",
     "text": [
      " 50%|████▉     | 3874/7750 [00:27<00:25, 150.97it/s]"
     ]
    },
    {
     "name": "stdout",
     "output_type": "stream",
     "text": [
      "{'percent_of_local': 96.79715302491103, 'percent_of_downstream': 63.10904872389791, 'local_active_count': 281, 'downstream_active_count': 431, 'both_active_count': 272}\n"
     ]
    },
    {
     "name": "stderr",
     "output_type": "stream",
     "text": [
      " 50%|█████     | 3905/7750 [00:27<00:27, 141.47it/s]"
     ]
    },
    {
     "name": "stdout",
     "output_type": "stream",
     "text": [
      "{'percent_of_local': 92.02226345083488, 'percent_of_downstream': 84.35374149659864, 'local_active_count': 539, 'downstream_active_count': 588, 'both_active_count': 496}\n",
      "{'percent_of_local': 93.89312977099237, 'percent_of_downstream': 66.30727762803235, 'local_active_count': 262, 'downstream_active_count': 371, 'both_active_count': 246}\n"
     ]
    },
    {
     "name": "stderr",
     "output_type": "stream",
     "text": [
      " 52%|█████▏    | 4051/7750 [00:28<00:22, 160.84it/s]"
     ]
    },
    {
     "name": "stdout",
     "output_type": "stream",
     "text": [
      "{'percent_of_local': 92.0, 'percent_of_downstream': 39.42857142857143, 'local_active_count': 225, 'downstream_active_count': 525, 'both_active_count': 207}\n"
     ]
    },
    {
     "name": "stderr",
     "output_type": "stream",
     "text": [
      " 53%|█████▎    | 4085/7750 [00:28<00:24, 150.45it/s]"
     ]
    },
    {
     "name": "stdout",
     "output_type": "stream",
     "text": [
      "{'percent_of_local': 100.0, 'percent_of_downstream': 50.0, 'local_active_count': 1, 'downstream_active_count': 2, 'both_active_count': 1}\n"
     ]
    },
    {
     "name": "stderr",
     "output_type": "stream",
     "text": [
      " 53%|█████▎    | 4137/7750 [00:28<00:22, 158.28it/s]"
     ]
    },
    {
     "name": "stdout",
     "output_type": "stream",
     "text": [
      "{'percent_of_local': 91.60997732426304, 'percent_of_downstream': 72.01426024955437, 'local_active_count': 441, 'downstream_active_count': 561, 'both_active_count': 404}\n"
     ]
    },
    {
     "name": "stderr",
     "output_type": "stream",
     "text": [
      " 54%|█████▍    | 4188/7750 [00:29<00:23, 154.84it/s]"
     ]
    },
    {
     "name": "stdout",
     "output_type": "stream",
     "text": [
      "{'percent_of_local': 97.0414201183432, 'percent_of_downstream': 44.44444444444444, 'local_active_count': 169, 'downstream_active_count': 369, 'both_active_count': 164}\n"
     ]
    },
    {
     "name": "stderr",
     "output_type": "stream",
     "text": [
      " 54%|█████▍    | 4204/7750 [00:29<00:24, 145.35it/s]"
     ]
    },
    {
     "name": "stdout",
     "output_type": "stream",
     "text": [
      "{'percent_of_local': 90.41095890410958, 'percent_of_downstream': 64.70588235294117, 'local_active_count': 146, 'downstream_active_count': 204, 'both_active_count': 132}\n"
     ]
    },
    {
     "name": "stderr",
     "output_type": "stream",
     "text": [
      " 55%|█████▍    | 4253/7750 [00:29<00:24, 141.58it/s]"
     ]
    },
    {
     "name": "stdout",
     "output_type": "stream",
     "text": [
      "{'percent_of_local': 93.58974358974359, 'percent_of_downstream': 42.52427184466019, 'local_active_count': 234, 'downstream_active_count': 515, 'both_active_count': 219}\n",
      "{'percent_of_local': 94.33962264150944, 'percent_of_downstream': 53.76344086021505, 'local_active_count': 159, 'downstream_active_count': 279, 'both_active_count': 150}\n"
     ]
    },
    {
     "name": "stderr",
     "output_type": "stream",
     "text": [
      " 56%|█████▋    | 4362/7750 [00:30<00:22, 147.43it/s]"
     ]
    },
    {
     "name": "stdout",
     "output_type": "stream",
     "text": [
      "{'percent_of_local': 91.63346613545816, 'percent_of_downstream': 49.35622317596567, 'local_active_count': 251, 'downstream_active_count': 466, 'both_active_count': 230}\n"
     ]
    },
    {
     "name": "stderr",
     "output_type": "stream",
     "text": [
      " 57%|█████▋    | 4426/7750 [00:30<00:26, 123.31it/s]"
     ]
    },
    {
     "name": "stdout",
     "output_type": "stream",
     "text": [
      "{'percent_of_local': 90.60402684563759, 'percent_of_downstream': 45.1505016722408, 'local_active_count': 149, 'downstream_active_count': 299, 'both_active_count': 135}\n",
      "{'percent_of_local': 90.0709219858156, 'percent_of_downstream': 57.20720720720721, 'local_active_count': 141, 'downstream_active_count': 222, 'both_active_count': 127}\n"
     ]
    },
    {
     "name": "stderr",
     "output_type": "stream",
     "text": [
      " 58%|█████▊    | 4511/7750 [00:31<00:23, 137.62it/s]"
     ]
    },
    {
     "name": "stdout",
     "output_type": "stream",
     "text": [
      "{'percent_of_local': 92.24376731301939, 'percent_of_downstream': 69.81132075471697, 'local_active_count': 361, 'downstream_active_count': 477, 'both_active_count': 333}\n",
      "{'percent_of_local': 96.90265486725663, 'percent_of_downstream': 45.625, 'local_active_count': 226, 'downstream_active_count': 480, 'both_active_count': 219}\n"
     ]
    },
    {
     "name": "stderr",
     "output_type": "stream",
     "text": [
      " 59%|█████▊    | 4544/7750 [00:31<00:22, 145.11it/s]"
     ]
    },
    {
     "name": "stdout",
     "output_type": "stream",
     "text": [
      "{'percent_of_local': 91.52542372881356, 'percent_of_downstream': 75.70093457943925, 'local_active_count': 177, 'downstream_active_count': 214, 'both_active_count': 162}\n"
     ]
    },
    {
     "name": "stderr",
     "output_type": "stream",
     "text": [
      " 61%|██████    | 4691/7750 [00:32<00:19, 155.87it/s]"
     ]
    },
    {
     "name": "stdout",
     "output_type": "stream",
     "text": [
      "{'percent_of_local': 92.83054003724395, 'percent_of_downstream': 71.62356321839081, 'local_active_count': 1074, 'downstream_active_count': 1392, 'both_active_count': 997}\n",
      "{'percent_of_local': 93.26923076923077, 'percent_of_downstream': 49.23857868020304, 'local_active_count': 104, 'downstream_active_count': 197, 'both_active_count': 97}\n"
     ]
    },
    {
     "name": "stderr",
     "output_type": "stream",
     "text": [
      " 62%|██████▏   | 4792/7750 [00:33<00:21, 136.70it/s]"
     ]
    },
    {
     "name": "stdout",
     "output_type": "stream",
     "text": [
      "{'percent_of_local': 91.12903225806451, 'percent_of_downstream': 56.78391959798995, 'local_active_count': 248, 'downstream_active_count': 398, 'both_active_count': 226}\n",
      "{'percent_of_local': 90.44117647058823, 'percent_of_downstream': 50.204081632653065, 'local_active_count': 136, 'downstream_active_count': 245, 'both_active_count': 123}\n",
      "{'percent_of_local': 93.41317365269461, 'percent_of_downstream': 62.15139442231076, 'local_active_count': 167, 'downstream_active_count': 251, 'both_active_count': 156}\n"
     ]
    },
    {
     "name": "stderr",
     "output_type": "stream",
     "text": [
      " 63%|██████▎   | 4894/7750 [00:33<00:18, 150.63it/s]"
     ]
    },
    {
     "name": "stdout",
     "output_type": "stream",
     "text": [
      "{'percent_of_local': 100.0, 'percent_of_downstream': 50.0, 'local_active_count': 1, 'downstream_active_count': 2, 'both_active_count': 1}\n"
     ]
    },
    {
     "name": "stderr",
     "output_type": "stream",
     "text": [
      " 64%|██████▎   | 4927/7750 [00:34<00:18, 150.40it/s]"
     ]
    },
    {
     "name": "stdout",
     "output_type": "stream",
     "text": [
      "{'percent_of_local': 93.125, 'percent_of_downstream': 68.34862385321101, 'local_active_count': 160, 'downstream_active_count': 218, 'both_active_count': 149}\n"
     ]
    },
    {
     "name": "stderr",
     "output_type": "stream",
     "text": [
      " 64%|██████▍   | 4977/7750 [00:34<00:19, 140.92it/s]"
     ]
    },
    {
     "name": "stdout",
     "output_type": "stream",
     "text": [
      "{'percent_of_local': 90.59233449477352, 'percent_of_downstream': 78.3132530120482, 'local_active_count': 574, 'downstream_active_count': 664, 'both_active_count': 520}\n",
      "{'percent_of_local': 90.2439024390244, 'percent_of_downstream': 33.4841628959276, 'local_active_count': 164, 'downstream_active_count': 442, 'both_active_count': 148}\n"
     ]
    },
    {
     "name": "stderr",
     "output_type": "stream",
     "text": [
      " 64%|██████▍   | 4992/7750 [00:34<00:22, 124.64it/s]"
     ]
    },
    {
     "name": "stdout",
     "output_type": "stream",
     "text": [
      "{'percent_of_local': 93.20652173913044, 'percent_of_downstream': 53.426791277258566, 'local_active_count': 368, 'downstream_active_count': 642, 'both_active_count': 343}\n",
      "{'percent_of_local': 90.35087719298247, 'percent_of_downstream': 36.91756272401434, 'local_active_count': 114, 'downstream_active_count': 279, 'both_active_count': 103}\n",
      "{'percent_of_local': 90.19607843137256, 'percent_of_downstream': 64.4, 'local_active_count': 357, 'downstream_active_count': 500, 'both_active_count': 322}\n"
     ]
    },
    {
     "name": "stderr",
     "output_type": "stream",
     "text": [
      " 65%|██████▍   | 5035/7750 [00:35<00:26, 104.26it/s]"
     ]
    },
    {
     "name": "stdout",
     "output_type": "stream",
     "text": [
      "{'percent_of_local': 93.7984496124031, 'percent_of_downstream': 72.02380952380952, 'local_active_count': 129, 'downstream_active_count': 168, 'both_active_count': 121}\n"
     ]
    },
    {
     "name": "stderr",
     "output_type": "stream",
     "text": [
      " 65%|██████▌   | 5048/7750 [00:35<00:27, 98.97it/s] "
     ]
    },
    {
     "name": "stdout",
     "output_type": "stream",
     "text": [
      "{'percent_of_local': 94.56066945606695, 'percent_of_downstream': 45.9349593495935, 'local_active_count': 239, 'downstream_active_count': 492, 'both_active_count': 226}\n"
     ]
    },
    {
     "name": "stderr",
     "output_type": "stream",
     "text": [
      " 66%|██████▌   | 5101/7750 [00:35<00:20, 131.25it/s]"
     ]
    },
    {
     "name": "stdout",
     "output_type": "stream",
     "text": [
      "{'percent_of_local': 93.14285714285714, 'percent_of_downstream': 62.45210727969349, 'local_active_count': 175, 'downstream_active_count': 261, 'both_active_count': 163}\n"
     ]
    },
    {
     "name": "stderr",
     "output_type": "stream",
     "text": [
      " 67%|██████▋   | 5191/7750 [00:36<00:16, 157.84it/s]"
     ]
    },
    {
     "name": "stdout",
     "output_type": "stream",
     "text": [
      "{'percent_of_local': 92.72727272727272, 'percent_of_downstream': 60.28368794326241, 'local_active_count': 275, 'downstream_active_count': 423, 'both_active_count': 255}\n"
     ]
    },
    {
     "name": "stderr",
     "output_type": "stream",
     "text": [
      " 67%|██████▋   | 5226/7750 [00:36<00:16, 157.34it/s]"
     ]
    },
    {
     "name": "stdout",
     "output_type": "stream",
     "text": [
      "{'percent_of_local': 92.48826291079813, 'percent_of_downstream': 52.81501340482574, 'local_active_count': 213, 'downstream_active_count': 373, 'both_active_count': 197}\n"
     ]
    },
    {
     "name": "stderr",
     "output_type": "stream",
     "text": [
      " 68%|██████▊   | 5293/7750 [00:36<00:16, 148.37it/s]"
     ]
    },
    {
     "name": "stdout",
     "output_type": "stream",
     "text": [
      "{'percent_of_local': 98.82352941176471, 'percent_of_downstream': 36.24595469255664, 'local_active_count': 340, 'downstream_active_count': 927, 'both_active_count': 336}\n",
      "{'percent_of_local': 94.1747572815534, 'percent_of_downstream': 48.98989898989899, 'local_active_count': 103, 'downstream_active_count': 198, 'both_active_count': 97}\n"
     ]
    },
    {
     "name": "stderr",
     "output_type": "stream",
     "text": [
      " 69%|██████▊   | 5326/7750 [00:37<00:16, 151.50it/s]"
     ]
    },
    {
     "name": "stdout",
     "output_type": "stream",
     "text": [
      "{'percent_of_local': 96.29629629629629, 'percent_of_downstream': 23.853211009174313, 'local_active_count': 54, 'downstream_active_count': 218, 'both_active_count': 52}\n"
     ]
    },
    {
     "name": "stderr",
     "output_type": "stream",
     "text": [
      " 70%|██████▉   | 5410/7750 [00:37<00:16, 144.06it/s]"
     ]
    },
    {
     "name": "stdout",
     "output_type": "stream",
     "text": [
      "{'percent_of_local': 96.66666666666667, 'percent_of_downstream': 51.056338028169016, 'local_active_count': 150, 'downstream_active_count': 284, 'both_active_count': 145}\n",
      "{'percent_of_local': 94.07008086253369, 'percent_of_downstream': 59.353741496598644, 'local_active_count': 371, 'downstream_active_count': 588, 'both_active_count': 349}\n",
      "{'percent_of_local': 96.875, 'percent_of_downstream': 41.66666666666667, 'local_active_count': 160, 'downstream_active_count': 372, 'both_active_count': 155}\n"
     ]
    },
    {
     "name": "stderr",
     "output_type": "stream",
     "text": [
      " 70%|███████   | 5461/7750 [00:37<00:14, 155.84it/s]"
     ]
    },
    {
     "name": "stdout",
     "output_type": "stream",
     "text": [
      "{'percent_of_local': 90.15151515151516, 'percent_of_downstream': 30.989583333333332, 'local_active_count': 132, 'downstream_active_count': 384, 'both_active_count': 119}\n"
     ]
    },
    {
     "name": "stderr",
     "output_type": "stream",
     "text": [
      " 72%|███████▏  | 5575/7750 [00:38<00:12, 175.76it/s]"
     ]
    },
    {
     "name": "stdout",
     "output_type": "stream",
     "text": [
      "{'percent_of_local': 90.44585987261146, 'percent_of_downstream': 55.90551181102362, 'local_active_count': 157, 'downstream_active_count': 254, 'both_active_count': 142}\n"
     ]
    },
    {
     "name": "stderr",
     "output_type": "stream",
     "text": [
      " 73%|███████▎  | 5620/7750 [00:39<00:23, 91.59it/s] "
     ]
    },
    {
     "name": "stdout",
     "output_type": "stream",
     "text": [
      "{'percent_of_local': 94.78260869565217, 'percent_of_downstream': 58.602150537634415, 'local_active_count': 115, 'downstream_active_count': 186, 'both_active_count': 109}\n"
     ]
    },
    {
     "name": "stderr",
     "output_type": "stream",
     "text": [
      " 73%|███████▎  | 5686/7750 [00:39<00:15, 134.39it/s]"
     ]
    },
    {
     "name": "stdout",
     "output_type": "stream",
     "text": [
      "{'percent_of_local': 93.87096774193549, 'percent_of_downstream': 83.3810888252149, 'local_active_count': 310, 'downstream_active_count': 349, 'both_active_count': 291}\n"
     ]
    },
    {
     "name": "stderr",
     "output_type": "stream",
     "text": [
      " 76%|███████▌  | 5866/7750 [00:40<00:11, 163.92it/s]"
     ]
    },
    {
     "name": "stdout",
     "output_type": "stream",
     "text": [
      "{'percent_of_local': 90.25974025974025, 'percent_of_downstream': 32.325581395348834, 'local_active_count': 154, 'downstream_active_count': 430, 'both_active_count': 139}\n"
     ]
    },
    {
     "name": "stderr",
     "output_type": "stream",
     "text": [
      " 76%|███████▌  | 5901/7750 [00:40<00:11, 156.05it/s]"
     ]
    },
    {
     "name": "stdout",
     "output_type": "stream",
     "text": [
      "{'percent_of_local': 94.7136563876652, 'percent_of_downstream': 75.17482517482517, 'local_active_count': 227, 'downstream_active_count': 286, 'both_active_count': 215}\n",
      "{'percent_of_local': 94.41624365482234, 'percent_of_downstream': 42.956120092378754, 'local_active_count': 197, 'downstream_active_count': 433, 'both_active_count': 186}\n"
     ]
    },
    {
     "name": "stderr",
     "output_type": "stream",
     "text": [
      " 77%|███████▋  | 5948/7750 [00:41<00:12, 138.99it/s]"
     ]
    },
    {
     "name": "stdout",
     "output_type": "stream",
     "text": [
      "{'percent_of_local': 93.33333333333333, 'percent_of_downstream': 48.275862068965516, 'local_active_count': 150, 'downstream_active_count': 290, 'both_active_count': 140}\n"
     ]
    },
    {
     "name": "stderr",
     "output_type": "stream",
     "text": [
      " 79%|███████▊  | 6089/7750 [00:42<00:10, 158.19it/s]"
     ]
    },
    {
     "name": "stdout",
     "output_type": "stream",
     "text": [
      "{'percent_of_local': 94.375, 'percent_of_downstream': 28.066914498141266, 'local_active_count': 160, 'downstream_active_count': 538, 'both_active_count': 151}\n",
      "{'percent_of_local': 92.7807486631016, 'percent_of_downstream': 72.14137214137214, 'local_active_count': 374, 'downstream_active_count': 481, 'both_active_count': 347}\n",
      "{'percent_of_local': 98.30508474576271, 'percent_of_downstream': 63.04347826086957, 'local_active_count': 59, 'downstream_active_count': 92, 'both_active_count': 58}\n"
     ]
    },
    {
     "name": "stderr",
     "output_type": "stream",
     "text": [
      " 79%|███████▉  | 6140/7750 [00:42<00:11, 145.41it/s]"
     ]
    },
    {
     "name": "stdout",
     "output_type": "stream",
     "text": [
      "{'percent_of_local': 90.9967845659164, 'percent_of_downstream': 85.75757575757575, 'local_active_count': 311, 'downstream_active_count': 330, 'both_active_count': 283}\n"
     ]
    },
    {
     "name": "stderr",
     "output_type": "stream",
     "text": [
      " 80%|███████▉  | 6193/7750 [00:42<00:10, 153.69it/s]"
     ]
    },
    {
     "name": "stdout",
     "output_type": "stream",
     "text": [
      "{'percent_of_local': 96.21212121212122, 'percent_of_downstream': 57.99086757990868, 'local_active_count': 132, 'downstream_active_count': 219, 'both_active_count': 127}\n",
      "{'percent_of_local': 97.10843373493975, 'percent_of_downstream': 73.94495412844037, 'local_active_count': 415, 'downstream_active_count': 545, 'both_active_count': 403}\n"
     ]
    },
    {
     "name": "stderr",
     "output_type": "stream",
     "text": [
      " 81%|████████  | 6241/7750 [00:43<00:10, 141.82it/s]"
     ]
    },
    {
     "name": "stdout",
     "output_type": "stream",
     "text": [
      "{'percent_of_local': 94.57142857142857, 'percent_of_downstream': 43.72523117569353, 'local_active_count': 350, 'downstream_active_count': 757, 'both_active_count': 331}\n"
     ]
    },
    {
     "name": "stderr",
     "output_type": "stream",
     "text": [
      " 81%|████████▏ | 6306/7750 [00:43<00:11, 130.68it/s]"
     ]
    },
    {
     "name": "stdout",
     "output_type": "stream",
     "text": [
      "{'percent_of_local': 100.0, 'percent_of_downstream': 50.0, 'local_active_count': 2, 'downstream_active_count': 4, 'both_active_count': 2}\n",
      "{'percent_of_local': 91.35135135135135, 'percent_of_downstream': 64.75095785440614, 'local_active_count': 185, 'downstream_active_count': 261, 'both_active_count': 169}\n",
      "{'percent_of_local': 91.16022099447514, 'percent_of_downstream': 70.2127659574468, 'local_active_count': 181, 'downstream_active_count': 235, 'both_active_count': 165}\n"
     ]
    },
    {
     "name": "stderr",
     "output_type": "stream",
     "text": [
      " 82%|████████▏ | 6355/7750 [00:44<00:14, 93.48it/s] "
     ]
    },
    {
     "name": "stdout",
     "output_type": "stream",
     "text": [
      "{'percent_of_local': 90.35087719298247, 'percent_of_downstream': 42.738589211618255, 'local_active_count': 114, 'downstream_active_count': 241, 'both_active_count': 103}\n",
      "{'percent_of_local': 100.0, 'percent_of_downstream': 33.33333333333333, 'local_active_count': 1, 'downstream_active_count': 3, 'both_active_count': 1}\n"
     ]
    },
    {
     "name": "stderr",
     "output_type": "stream",
     "text": [
      " 83%|████████▎ | 6406/7750 [00:44<00:13, 97.30it/s] "
     ]
    },
    {
     "name": "stdout",
     "output_type": "stream",
     "text": [
      "{'percent_of_local': 95.0, 'percent_of_downstream': 48.717948717948715, 'local_active_count': 100, 'downstream_active_count': 195, 'both_active_count': 95}\n",
      "{'percent_of_local': 95.50173010380622, 'percent_of_downstream': 94.84536082474226, 'local_active_count': 289, 'downstream_active_count': 291, 'both_active_count': 276}\n"
     ]
    },
    {
     "name": "stderr",
     "output_type": "stream",
     "text": [
      " 84%|████████▎ | 6486/7750 [00:45<00:11, 107.57it/s]"
     ]
    },
    {
     "name": "stdout",
     "output_type": "stream",
     "text": [
      "{'percent_of_local': 92.3076923076923, 'percent_of_downstream': 55.29953917050692, 'local_active_count': 130, 'downstream_active_count': 217, 'both_active_count': 120}\n"
     ]
    },
    {
     "name": "stderr",
     "output_type": "stream",
     "text": [
      " 86%|████████▌ | 6632/7750 [00:46<00:07, 154.80it/s]"
     ]
    },
    {
     "name": "stdout",
     "output_type": "stream",
     "text": [
      "{'percent_of_local': 91.9431279620853, 'percent_of_downstream': 57.91044776119403, 'local_active_count': 211, 'downstream_active_count': 335, 'both_active_count': 194}\n"
     ]
    },
    {
     "name": "stderr",
     "output_type": "stream",
     "text": [
      " 87%|████████▋ | 6747/7750 [00:47<00:05, 168.21it/s]"
     ]
    },
    {
     "name": "stdout",
     "output_type": "stream",
     "text": [
      "{'percent_of_local': 93.29608938547486, 'percent_of_downstream': 33.73737373737374, 'local_active_count': 179, 'downstream_active_count': 495, 'both_active_count': 167}\n",
      "{'percent_of_local': 90.07633587786259, 'percent_of_downstream': 71.40695915279879, 'local_active_count': 524, 'downstream_active_count': 661, 'both_active_count': 472}\n"
     ]
    },
    {
     "name": "stderr",
     "output_type": "stream",
     "text": [
      " 88%|████████▊ | 6797/7750 [00:47<00:06, 143.14it/s]"
     ]
    },
    {
     "name": "stdout",
     "output_type": "stream",
     "text": [
      "{'percent_of_local': 93.06122448979592, 'percent_of_downstream': 75.24752475247524, 'local_active_count': 245, 'downstream_active_count': 303, 'both_active_count': 228}\n",
      "{'percent_of_local': 91.17647058823529, 'percent_of_downstream': 70.99236641221374, 'local_active_count': 204, 'downstream_active_count': 262, 'both_active_count': 186}\n"
     ]
    },
    {
     "name": "stderr",
     "output_type": "stream",
     "text": [
      " 88%|████████▊ | 6830/7750 [00:47<00:06, 148.12it/s]"
     ]
    },
    {
     "name": "stdout",
     "output_type": "stream",
     "text": [
      "{'percent_of_local': 90.67357512953367, 'percent_of_downstream': 64.81481481481481, 'local_active_count': 193, 'downstream_active_count': 270, 'both_active_count': 175}\n"
     ]
    },
    {
     "name": "stderr",
     "output_type": "stream",
     "text": [
      " 89%|████████▉ | 6882/7750 [00:48<00:05, 155.00it/s]"
     ]
    },
    {
     "name": "stdout",
     "output_type": "stream",
     "text": [
      "{'percent_of_local': 97.19298245614036, 'percent_of_downstream': 65.63981042654028, 'local_active_count': 285, 'downstream_active_count': 422, 'both_active_count': 277}\n",
      "{'percent_of_local': 92.3076923076923, 'percent_of_downstream': 39.130434782608695, 'local_active_count': 117, 'downstream_active_count': 276, 'both_active_count': 108}\n"
     ]
    },
    {
     "name": "stderr",
     "output_type": "stream",
     "text": [
      " 90%|████████▉ | 6948/7750 [00:48<00:05, 137.53it/s]"
     ]
    },
    {
     "name": "stdout",
     "output_type": "stream",
     "text": [
      "{'percent_of_local': 94.5, 'percent_of_downstream': 76.67342799188641, 'local_active_count': 400, 'downstream_active_count': 493, 'both_active_count': 378}\n"
     ]
    },
    {
     "name": "stderr",
     "output_type": "stream",
     "text": [
      " 90%|█████████ | 6982/7750 [00:49<00:05, 147.89it/s]"
     ]
    },
    {
     "name": "stdout",
     "output_type": "stream",
     "text": [
      "{'percent_of_local': 90.57591623036649, 'percent_of_downstream': 46.01063829787234, 'local_active_count': 191, 'downstream_active_count': 376, 'both_active_count': 173}\n"
     ]
    },
    {
     "name": "stderr",
     "output_type": "stream",
     "text": [
      " 93%|█████████▎| 7228/7750 [00:50<00:03, 162.13it/s]"
     ]
    },
    {
     "name": "stdout",
     "output_type": "stream",
     "text": [
      "{'percent_of_local': 91.26760563380282, 'percent_of_downstream': 65.9877800407332, 'local_active_count': 355, 'downstream_active_count': 491, 'both_active_count': 324}\n"
     ]
    },
    {
     "name": "stderr",
     "output_type": "stream",
     "text": [
      " 96%|█████████▋| 7461/7750 [00:51<00:01, 166.06it/s]"
     ]
    },
    {
     "name": "stdout",
     "output_type": "stream",
     "text": [
      "{'percent_of_local': 95.61855670103093, 'percent_of_downstream': 40.994475138121544, 'local_active_count': 388, 'downstream_active_count': 905, 'both_active_count': 371}\n"
     ]
    },
    {
     "name": "stderr",
     "output_type": "stream",
     "text": [
      " 97%|█████████▋| 7494/7750 [00:51<00:01, 144.82it/s]"
     ]
    },
    {
     "name": "stdout",
     "output_type": "stream",
     "text": [
      "{'percent_of_local': 92.21902017291066, 'percent_of_downstream': 79.60199004975125, 'local_active_count': 347, 'downstream_active_count': 402, 'both_active_count': 320}\n",
      "{'percent_of_local': 91.12903225806451, 'percent_of_downstream': 47.28033472803347, 'local_active_count': 124, 'downstream_active_count': 239, 'both_active_count': 113}\n",
      "{'percent_of_local': 91.74107142857143, 'percent_of_downstream': 57.08333333333333, 'local_active_count': 448, 'downstream_active_count': 720, 'both_active_count': 411}\n"
     ]
    },
    {
     "name": "stderr",
     "output_type": "stream",
     "text": [
      " 97%|█████████▋| 7543/7750 [00:52<00:02, 77.91it/s] "
     ]
    },
    {
     "name": "stdout",
     "output_type": "stream",
     "text": [
      "{'percent_of_local': 100.0, 'percent_of_downstream': 50.0, 'local_active_count': 1, 'downstream_active_count': 2, 'both_active_count': 1}\n"
     ]
    },
    {
     "name": "stderr",
     "output_type": "stream",
     "text": [
      " 98%|█████████▊| 7560/7750 [00:52<00:02, 66.38it/s]"
     ]
    },
    {
     "name": "stdout",
     "output_type": "stream",
     "text": [
      "{'percent_of_local': 90.13157894736842, 'percent_of_downstream': 61.43497757847533, 'local_active_count': 152, 'downstream_active_count': 223, 'both_active_count': 137}\n"
     ]
    },
    {
     "name": "stderr",
     "output_type": "stream",
     "text": [
      " 98%|█████████▊| 7605/7750 [00:53<00:02, 70.23it/s]"
     ]
    },
    {
     "name": "stdout",
     "output_type": "stream",
     "text": [
      "{'percent_of_local': 91.80327868852459, 'percent_of_downstream': 59.36395759717315, 'local_active_count': 183, 'downstream_active_count': 283, 'both_active_count': 168}\n"
     ]
    },
    {
     "name": "stderr",
     "output_type": "stream",
     "text": [
      " 98%|█████████▊| 7629/7750 [00:54<00:01, 65.09it/s]"
     ]
    },
    {
     "name": "stdout",
     "output_type": "stream",
     "text": [
      "{'percent_of_local': 91.47727272727273, 'percent_of_downstream': 53.666666666666664, 'local_active_count': 176, 'downstream_active_count': 300, 'both_active_count': 161}\n"
     ]
    },
    {
     "name": "stderr",
     "output_type": "stream",
     "text": [
      " 99%|█████████▉| 7670/7750 [00:54<00:01, 58.62it/s]"
     ]
    },
    {
     "name": "stdout",
     "output_type": "stream",
     "text": [
      "{'percent_of_local': 90.38461538461539, 'percent_of_downstream': 33.098591549295776, 'local_active_count': 52, 'downstream_active_count': 142, 'both_active_count': 47}\n"
     ]
    },
    {
     "name": "stderr",
     "output_type": "stream",
     "text": [
      "100%|██████████| 7750/7750 [00:55<00:00, 139.22it/s]"
     ]
    },
    {
     "name": "stdout",
     "output_type": "stream",
     "text": [
      "{'percent_of_local': 99.27007299270073, 'percent_of_downstream': 63.55140186915887, 'local_active_count': 137, 'downstream_active_count': 214, 'both_active_count': 136}\n",
      "{'percent_of_local': 91.73553719008265, 'percent_of_downstream': 47.43589743589743, 'local_active_count': 121, 'downstream_active_count': 234, 'both_active_count': 111}\n"
     ]
    },
    {
     "name": "stderr",
     "output_type": "stream",
     "text": [
      "\n"
     ]
    }
   ],
   "source": [
    "subset_examples = []\n",
    "\n",
    "for local_idx, downstream_idx in tqdm(high_cos_sim_pairs):\n",
    "    local_activations = local_dictionary_activations[:, local_idx]\n",
    "    downstream_activations = downstream_dictionary_activations[:, downstream_idx]\n",
    "    \n",
    "    # Check if local feature activates on a subset of downstream feature\n",
    "    # Count as active if above mean + std\n",
    "    local_active = local_activations > local_activations.mean() + local_activations.std()\n",
    "    downstream_active = downstream_activations > downstream_activations.mean() + downstream_activations.std()\n",
    "    \n",
    "    if local_active.sum() < downstream_active.sum() and (local_active & downstream_active).sum() / local_active.sum() > 0.9:\n",
    "        print(get_activation_overlap(local_active, downstream_active))\n",
    "        local_contexts = find_activation_contexts(local_activations, local_token_list)\n",
    "        downstream_contexts = find_activation_contexts(downstream_activations, downstream_token_list)\n",
    "        \n",
    "        subset_examples.append({\n",
    "            'local_idx': local_idx.item(),\n",
    "            'downstream_idx': downstream_idx.item(),\n",
    "            'local_contexts': local_contexts,\n",
    "            'downstream_contexts': downstream_contexts\n",
    "        })"
   ]
  },
  {
   "cell_type": "code",
   "execution_count": 18,
   "metadata": {},
   "outputs": [
    {
     "name": "stdout",
     "output_type": "stream",
     "text": [
      "189 local feature that is a subset of downstream feature\n"
     ]
    }
   ],
   "source": [
    "print(f\"{len(subset_examples)} local feature that is a subset of downstream feature\")"
   ]
  },
  {
   "cell_type": "code",
   "execution_count": 19,
   "metadata": {},
   "outputs": [
    {
     "name": "stdout",
     "output_type": "stream",
     "text": [
      "\n",
      "Example 1:\n",
      "Local feature 70 contexts:\n",
      "� s   p r o - t r a n s\n",
      "  w e e k e n d   a t   p r o - T r u m p\n",
      "  o f f i c i a l   a n d   p r o - T r u m p\n",
      "  t i r e l e s s l y   f o r   p r o - l\n",
      "  b l a m i n g   a   p r o - T r u m p\n",
      "  p r e s s e s   h i s   p r o - i m m i g r a t i o n\n",
      "  c o n t r o l   o f   p r o - R u s s i a n\n",
      "  m a k i n g   t h e   p r o j e c\n",
      "  s a y i n g   t h a t   p r o - g o v e r n m e n t\n",
      "  a f t e r   a   p r o - T r u m p\n",
      "  T u e s d a y   w i t h   p r o - R u s s i a n\n",
      "H o w   d o   p r o   f a n s   s t a c k\n",
      "A f t e r   t h e   p r o - t r a n s\n",
      "  m y t h ,   p r o p p e d   u p\n",
      "  a   r a d i c a l l y   p r o - g r o w t h\n",
      "  a l w a y s   b e   p r o - w o m a n\n",
      "  o f   c o n s e r v a t i v e   p r o - f a m i l y\n",
      "  a d v o c a t e   s a y s   p r o - a b o r t i o n\n",
      "  t h e y   c a n   p r o c r e a t e   a n d\n",
      "  s h e   i s   p r o   w o m a n   w h e n\n",
      "Downstream feature 4456 contexts:\n",
      "  w e e k e n d   a t   p r o - T r u m p\n",
      "  T u e s d a y   w i t h   p r o - R u s s i a n\n",
      "� s   p r o - t r a n s\n",
      "  c o n t r o l   o f   p r o - R u s s i a n\n",
      "  t i r e l e s s l y   f o r   p r o - l\n",
      "  s a y i n g   t h a t   p r o - g o v e r n m e n t\n",
      "  o f f i c i a l   a n d   p r o - T r u m p\n",
      "  a f t e r   a   p r o - T r u m p\n",
      "  b l a m i n g   a   p r o - T r u m p\n",
      "  m a k i n g   t h e   p r o j e c\n",
      "  p r e s s e s   h i s   p r o - i m m i g r a t i o n\n",
      "H o w   d o   p r o   f a n s   s t a c k\n",
      "  a   r a d i c a l l y   p r o - g r o w t h\n",
      "  o f   c o n s e r v a t i v e   p r o - f a m i l y\n",
      "A f t e r   t h e   p r o - t r a n s\n",
      "  a d v o c a t e   s a y s   p r o - a b o r t i o n\n",
      "  m y t h ,   p r o p p e d   u p\n",
      "  a l w a y s   b e   p r o - w o m a n\n",
      ".   T h e   p r o - l i f e\n",
      "  s h e   i s   p r o   w o m a n   w h e n\n",
      "\n",
      "Example 2:\n",
      "Local feature 150 contexts:\n",
      "\n",
      " \n",
      " � S o m e   o f\n",
      "\n",
      " \n",
      " “ D o\n",
      "\n",
      " \n",
      " “ O h\n",
      "\n",
      " \n",
      " � T h e   A r i z o n a\n",
      "\n",
      " \n",
      " “ G o t\n",
      "\n",
      " \n",
      " “ W e\n",
      "\n",
      " \n",
      " “ I\n",
      "\n",
      " \n",
      " “ T h e r e\n",
      "\n",
      " \n",
      " “ T h e y\n",
      "\n",
      " \n",
      " “ S c\n",
      "\n",
      " \n",
      " “ H e\n",
      "\n",
      " \n",
      " “ I\n",
      "\n",
      " \n",
      " “ T h e y\n",
      "\n",
      " \n",
      " “ S e c r e t a r y\n",
      "\n",
      " \n",
      " “ W h e r e\n",
      "\n",
      " \n",
      " “ M r\n",
      "\n",
      " \n",
      " “ W e\n",
      "\n",
      " \n",
      " “ A\n",
      "\n",
      " \n",
      " “ F i n d i n g\n",
      "\n",
      " \n",
      " ‘ A s\n",
      "Downstream feature 5556 contexts:\n",
      "\n",
      " \n",
      " “ W e\n",
      "\n",
      " \n",
      " “ D o\n",
      "\n",
      " \n",
      " “ G o t\n",
      "\n",
      " \n",
      " � S o m e   o f\n",
      "\n",
      " \n",
      " “ T h e r e\n",
      "\n",
      " \n",
      " “ I\n",
      "\n",
      " \n",
      " “ H e\n",
      "\n",
      " \n",
      " “ O h\n",
      "\n",
      " \n",
      " � T h e   A r i z o n a\n",
      "\n",
      " \n",
      " “ W h e r e\n",
      "\n",
      " \n",
      " “ W e\n",
      "\n",
      " \n",
      " “ A\n",
      "\n",
      " \n",
      " “ F i n d i n g\n",
      "\n",
      " \n",
      " “ T h e y\n",
      "\n",
      " \n",
      " “ C o l d\n",
      "\n",
      " \n",
      " “ T h e y\n",
      "\n",
      " \n",
      " “ M r\n",
      "\n",
      " \n",
      " “ T h i s\n",
      "\n",
      " \n",
      " “ S c\n",
      "\n",
      " \n",
      " “ S e c r e t a r y\n",
      "\n",
      "Example 3:\n",
      "Local feature 179 contexts:\n",
      "a h u ,   e v e n   w h e n   f i e l d i n g\n",
      "  F a c e b o o k ,   e v e n   t h e i r   i m m i n e n t\n",
      "  s t a t u t e s ,   e v e n   t h o u g h   t h e y\n",
      "  I t a l y ,   e v e n   w i t h   S k y\n",
      "  w o r k ,   e v e n   h e a l t h c a r e .\n",
      "  m i s e r a b l e ,   e v e n   d a n g e r o u s ,\n",
      ".   —   e v e n   m a r r y i n g   a\n",
      "  e l e c t i o n ,   e v e n   a s   a\n",
      "e d ,   e v e n   f o r   p e o p l e\n",
      "  i n t e r e s t s ,   e v e n   t h o u g h   M i c r o s o f t\n",
      "  a u c t i o n ,   e v e n   a s   i t\n",
      "  e n d ,   e v e n   i n   t h e\n",
      "  c l a i m s   –   e v e n   o n e   f r o m\n",
      "o r a n ) ,   e v e n   i f   a\n",
      "  s m a r t ,   e v e n   v e r y   s m a r t\n",
      "  s e r v i c e ,   e v e n   t h o u g h   t h i s\n",
      "  t a s k s   ( e v e n   w h e n   a\n",
      "  F r i d a y ,   e v e n   t h o u g h   h e\n",
      "  U n i o n ,   e v e n   t h o u g h   t h e\n",
      "  p l a c e ,   e v e n   b y   E u r o p e a n\n",
      "Downstream feature 12738 contexts:\n",
      "a h u ,   e v e n   w h e n   f i e l d i n g\n",
      "  I t a l y ,   e v e n   w i t h   S k y\n",
      "  s t a t u t e s ,   e v e n   t h o u g h   t h e y\n",
      "  e l e c t i o n ,   e v e n   a s   a\n",
      "  F a c e b o o k ,   e v e n   t h e i r   i m m i n e n t\n",
      "  c l a i m s   –   e v e n   o n e   f r o m\n",
      "  w o r k ,   e v e n   h e a l t h c a r e .\n",
      "o r a n ) ,   e v e n   i f   a\n",
      ".   —   e v e n   m a r r y i n g   a\n",
      "  s e r v i c e ,   e v e n   t h o u g h   t h i s\n",
      "  F r i d a y ,   e v e n   t h o u g h   h e\n",
      "  i n t e r e s t s ,   e v e n   t h o u g h   M i c r o s o f t\n",
      "  a u c t i o n ,   e v e n   a s   i t\n",
      "  m i s e r a b l e ,   e v e n   d a n g e r o u s ,\n",
      "  s m a r t ,   e v e n   v e r y   s m a r t\n",
      "  U n i o n ,   e v e n   t h o u g h   t h e\n",
      "  e n d ,   e v e n   i n   t h e\n",
      "  t a s k s   ( e v e n   w h e n   a\n",
      "e d ,   e v e n   f o r   p e o p l e\n",
      "  d a y s   ( e v e n   w h e n   d o n e\n",
      "\n",
      "Example 4:\n",
      "Local feature 237 contexts:\n",
      "  w i t h   t h e   E U   a m i d   i n t e n s e\n",
      ",   a n   E U   r e s e a r c h   p r o g r a m\n",
      "a n d   t h e   E U ’\n",
      "  M o n d a y ,   E U   a g r i c u l t u r e Y o u r\n",
      ",   t h e   E U   h a s   o f f i c i a l l y\n",
      "  o f   t h e   E U � S t a r\n",
      "  v i c t o r y .   E U   o f f i c i a l s   w a r n e d\n",
      "  l i n e   w i t h   E U   r u l e s   o n\n",
      "  a   s e n i o r   E U   d i p l o m a t   s a i d\n",
      "  t h o u g h   t h e   E U   h a s   a l r e a d y\n",
      "W i t h o u t   t h e   E U   B r i t a i n   w i l l\n",
      "  f o r   t h e   E U   t o   i n t r o d u c e\n",
      "  l a w   o r   E U   l a w ,\n",
      "  R e l e a s e   T h e   E U ' s   A s s e m b l y\n",
      "  c h a n g e s   t o   E U   m i g r a t i o n   r u l e s\n",
      "\n",
      " \n",
      " E U   l e a d e r s   h a v e\n",
      "  t h e   2 8   E U   m e m b e r   s t a t e s\n",
      "  i n   t h e   E U   c o m m i s s i o n   2 0 1 5\n",
      "U S   A n d   E U   S t i l l   C l\n",
      "i t s   t h e   E U . \n",
      "\n",
      "Downstream feature 45406 contexts:\n",
      "  w i t h   t h e   E U   a m i d   i n t e n s e\n",
      "a n d   t h e   E U ’\n",
      "  M o n d a y ,   E U   a g r i c u l t u r e Y o u r\n",
      "  o f   t h e   E U � S t a r\n",
      "W i t h o u t   t h e   E U   B r i t a i n   w i l l\n",
      "  l i n e   w i t h   E U   r u l e s   o n\n",
      "  v i c t o r y .   E U   o f f i c i a l s   w a r n e d\n",
      ",   t h e   E U   h a s   o f f i c i a l l y\n",
      "  R e l e a s e   T h e   E U ' s   A s s e m b l y\n",
      ",   a n   E U   r e s e a r c h   p r o g r a m\n",
      "  c h a n g e s   t o   E U   m i g r a t i o n   r u l e s\n",
      "  f o r   t h e   E U   t o   i n t r o d u c e\n",
      "\n",
      " \n",
      " E U   l e a d e r s   h a v e\n",
      "  i n   t h e   E U   c o m m i s s i o n   2 0 1 5\n",
      "  B u t T h e   E U ’\n",
      "  a   s e n i o r   E U   d i p l o m a t   s a i d\n",
      "  l a w   o r   E U   l a w ,\n",
      "U S   A n d   E U   S t i l l   C l\n",
      "i t s   t h e   E U . \n",
      "\n",
      "  t h o u g h   t h e   E U   h a s   a l r e a d y\n",
      "\n",
      "Example 5:\n",
      "Local feature 519 contexts:\n",
      "  w e n t   a b o v e   a n d   b e y o n d   t h e\n",
      "  t h e   s k y   a n d   m a d e   t h e\n",
      "  M a l l   l e s s   i m p r e s s i v e   t h a n   u s u a l\n",
      "  N a t i o n a l   M a l l   l e s s   i m p r e s s i v e   t h a n\n",
      "  t h e   N a t i o n a l   M a l l   l e s s   i m p r e s s i v e\n",
      "  f r o m   t h e   N a t i o n a l   M a l l   l e s s\n",
      "  s h o w   f r o m   t h e   N a t i o n a l   M a l l\n",
      "  D a y   s h o w   f r o m   t h e   N a t i o n a l\n",
      "  I n d e p e n d e n c e   D a y   s h o w   f r o m   t h e\n",
      "  t h e   I n d e p e n d e n c e   D a y   s h o w   f r o m\n",
      "  m a d e   t h e   I n d e p e n d e n c e   D a y   s h o w\n",
      "  a n d   m a d e   t h e   I n d e p e n d e n c e   D a y\n",
      "  s k y   a n d   m a d e   t h e   I n d e p e n d e n c e\n",
      "  l e s s   i m p r e s s i v e   t h a n   u s u a l   t o\n",
      "e d   t h e   s k y   a n d   m a d e\n",
      "  b l a n k e t e d   t h e   s k y   a n d\n",
      "  r a i n   b l a n k e t e d   t h e   s k y\n",
      "  a n d   r a i n   b l a n k e t e d   t h e\n",
      "  f o g   a n d   r a i n   b l a n k e t e d\n",
      "  w h e n   f o g   a n d   r a i n   b l a n k e t\n",
      "Downstream feature 519 contexts:\n",
      "  w e n t   a b o v e   a n d   b e y o n d   t h e\n",
      "  e v e r y   n o w   a n d   t h e n .\n",
      "  t h e   s k y   a n d   m a d e   t h e\n",
      "  N a t i o n a l   M a l l   l e s s   i m p r e s s i v e   t h a n\n",
      "  t h e   N a t i o n a l   M a l l   l e s s   i m p r e s s i v e\n",
      "  f r o m   t h e   N a t i o n a l   M a l l   l e s s\n",
      "  s h o w   f r o m   t h e   N a t i o n a l   M a l l\n",
      "  D a y   s h o w   f r o m   t h e   N a t i o n a l\n",
      "  I n d e p e n d e n c e   D a y   s h o w   f r o m   t h e\n",
      "  t h e   I n d e p e n d e n c e   D a y   s h o w   f r o m\n",
      "  m a d e   t h e   I n d e p e n d e n c e   D a y   s h o w\n",
      "  a n d   m a d e   t h e   I n d e p e n d e n c e   D a y\n",
      "  s k y   a n d   m a d e   t h e   I n d e p e n d e n c e\n",
      "  M a l l   l e s s   i m p r e s s i v e   t h a n   u s u a l\n",
      "e d   t h e   s k y   a n d   m a d e\n",
      "  b l a n k e t e d   t h e   s k y   a n d\n",
      "  r a i n   b l a n k e t e d   t h e   s k y\n",
      "  a n d   r a i n   b l a n k e t e d   t h e\n",
      "  f o g   a n d   r a i n   b l a n k e t e d\n",
      "  w h e n   f o g   a n d   r a i n   b l a n k e t\n"
     ]
    }
   ],
   "source": [
    "# Print out the first 5 examples\n",
    "for i, example in enumerate(subset_examples[:5]):\n",
    "    print(f\"\\nExample {i+1}:\")\n",
    "\n",
    "    print(f\"Local feature {example['local_idx']} contexts:\")\n",
    "    for context in example['local_contexts']:\n",
    "        print(\" \".join(model.to_string(context)))\n",
    "    \n",
    "    print(f\"Downstream feature {example['downstream_idx']} contexts:\")\n",
    "    for context in example['downstream_contexts']:\n",
    "        print(\" \".join(model.to_string(context)))"
   ]
  }
 ],
 "metadata": {
  "kernelspec": {
   "display_name": "Python 3 (ipykernel)",
   "language": "python",
   "name": "python3"
  },
  "language_info": {
   "codemirror_mode": {
    "name": "ipython",
    "version": 3
   },
   "file_extension": ".py",
   "mimetype": "text/x-python",
   "name": "python",
   "nbconvert_exporter": "python",
   "pygments_lexer": "ipython3",
   "version": "3.10.12"
  }
 },
 "nbformat": 4,
 "nbformat_minor": 2
}
